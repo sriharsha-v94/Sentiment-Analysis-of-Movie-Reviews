{
 "cells": [
  {
   "cell_type": "code",
   "execution_count": 95,
   "id": "c4b7e6bf",
   "metadata": {},
   "outputs": [],
   "source": [
    "import warnings\n",
    "warnings.filterwarnings('ignore')\n",
    "import numpy as np\n",
    "import pandas as pd\n",
    "import matplotlib.pyplot as plt\n",
    "import seaborn as sns\n",
    "\n",
    "from tqdm import tqdm\n",
    "import re\n",
    "import nltk\n",
    "from bs4 import BeautifulSoup\n",
    "from nltk.tag import pos_tag\n",
    "from nltk.stem import PorterStemmer\n",
    "from nltk.stem import WordNetLemmatizer\n",
    "from nltk.corpus import stopwords\n",
    "from nltk.corpus import wordnet\n",
    "\n",
    "from sklearn.feature_extraction.text import TfidfVectorizer\n",
    "from sklearn.feature_extraction.text import CountVectorizer\n",
    "\n",
    "from sklearn import metrics\n",
    "from sklearn.metrics import accuracy_score\n",
    "from sklearn.metrics import confusion_matrix\n",
    "\n",
    "from sklearn.model_selection import train_test_split\n",
    "from sklearn.model_selection import GridSearchCV\n",
    "from sklearn.linear_model import LogisticRegression\n",
    "from sklearn.naive_bayes import MultinomialNB\n",
    "from sklearn.svm import SVC"
   ]
  },
  {
   "cell_type": "code",
   "execution_count": 5,
   "id": "520abad5",
   "metadata": {},
   "outputs": [],
   "source": [
    "data = pd.read_csv('D:/Applied AI/Projects/IMDB.csv')"
   ]
  },
  {
   "cell_type": "code",
   "execution_count": 6,
   "id": "fe18bde0",
   "metadata": {},
   "outputs": [
    {
     "data": {
      "text/html": [
       "<div>\n",
       "<style scoped>\n",
       "    .dataframe tbody tr th:only-of-type {\n",
       "        vertical-align: middle;\n",
       "    }\n",
       "\n",
       "    .dataframe tbody tr th {\n",
       "        vertical-align: top;\n",
       "    }\n",
       "\n",
       "    .dataframe thead th {\n",
       "        text-align: right;\n",
       "    }\n",
       "</style>\n",
       "<table border=\"1\" class=\"dataframe\">\n",
       "  <thead>\n",
       "    <tr style=\"text-align: right;\">\n",
       "      <th></th>\n",
       "      <th>review</th>\n",
       "      <th>sentiment</th>\n",
       "    </tr>\n",
       "  </thead>\n",
       "  <tbody>\n",
       "    <tr>\n",
       "      <th>0</th>\n",
       "      <td>One of the other reviewers has mentioned that ...</td>\n",
       "      <td>positive</td>\n",
       "    </tr>\n",
       "    <tr>\n",
       "      <th>1</th>\n",
       "      <td>A wonderful little production. &lt;br /&gt;&lt;br /&gt;The...</td>\n",
       "      <td>positive</td>\n",
       "    </tr>\n",
       "    <tr>\n",
       "      <th>2</th>\n",
       "      <td>I thought this was a wonderful way to spend ti...</td>\n",
       "      <td>positive</td>\n",
       "    </tr>\n",
       "    <tr>\n",
       "      <th>3</th>\n",
       "      <td>Basically there's a family where a little boy ...</td>\n",
       "      <td>negative</td>\n",
       "    </tr>\n",
       "    <tr>\n",
       "      <th>4</th>\n",
       "      <td>Petter Mattei's \"Love in the Time of Money\" is...</td>\n",
       "      <td>positive</td>\n",
       "    </tr>\n",
       "  </tbody>\n",
       "</table>\n",
       "</div>"
      ],
      "text/plain": [
       "                                              review sentiment\n",
       "0  One of the other reviewers has mentioned that ...  positive\n",
       "1  A wonderful little production. <br /><br />The...  positive\n",
       "2  I thought this was a wonderful way to spend ti...  positive\n",
       "3  Basically there's a family where a little boy ...  negative\n",
       "4  Petter Mattei's \"Love in the Time of Money\" is...  positive"
      ]
     },
     "execution_count": 6,
     "metadata": {},
     "output_type": "execute_result"
    }
   ],
   "source": [
    "data.head()"
   ]
  },
  {
   "cell_type": "code",
   "execution_count": 7,
   "id": "4a14ee61",
   "metadata": {},
   "outputs": [],
   "source": [
    "data['sentiment'] = data['sentiment'].map(\n",
    "                   {'positive':1 ,'negative':0})"
   ]
  },
  {
   "cell_type": "code",
   "execution_count": 8,
   "id": "5f6aac0d",
   "metadata": {},
   "outputs": [
    {
     "data": {
      "text/html": [
       "<div>\n",
       "<style scoped>\n",
       "    .dataframe tbody tr th:only-of-type {\n",
       "        vertical-align: middle;\n",
       "    }\n",
       "\n",
       "    .dataframe tbody tr th {\n",
       "        vertical-align: top;\n",
       "    }\n",
       "\n",
       "    .dataframe thead th {\n",
       "        text-align: right;\n",
       "    }\n",
       "</style>\n",
       "<table border=\"1\" class=\"dataframe\">\n",
       "  <thead>\n",
       "    <tr style=\"text-align: right;\">\n",
       "      <th></th>\n",
       "      <th>review</th>\n",
       "      <th>sentiment</th>\n",
       "    </tr>\n",
       "  </thead>\n",
       "  <tbody>\n",
       "    <tr>\n",
       "      <th>0</th>\n",
       "      <td>One of the other reviewers has mentioned that ...</td>\n",
       "      <td>1</td>\n",
       "    </tr>\n",
       "    <tr>\n",
       "      <th>1</th>\n",
       "      <td>A wonderful little production. &lt;br /&gt;&lt;br /&gt;The...</td>\n",
       "      <td>1</td>\n",
       "    </tr>\n",
       "    <tr>\n",
       "      <th>2</th>\n",
       "      <td>I thought this was a wonderful way to spend ti...</td>\n",
       "      <td>1</td>\n",
       "    </tr>\n",
       "    <tr>\n",
       "      <th>3</th>\n",
       "      <td>Basically there's a family where a little boy ...</td>\n",
       "      <td>0</td>\n",
       "    </tr>\n",
       "    <tr>\n",
       "      <th>4</th>\n",
       "      <td>Petter Mattei's \"Love in the Time of Money\" is...</td>\n",
       "      <td>1</td>\n",
       "    </tr>\n",
       "  </tbody>\n",
       "</table>\n",
       "</div>"
      ],
      "text/plain": [
       "                                              review  sentiment\n",
       "0  One of the other reviewers has mentioned that ...          1\n",
       "1  A wonderful little production. <br /><br />The...          1\n",
       "2  I thought this was a wonderful way to spend ti...          1\n",
       "3  Basically there's a family where a little boy ...          0\n",
       "4  Petter Mattei's \"Love in the Time of Money\" is...          1"
      ]
     },
     "execution_count": 8,
     "metadata": {},
     "output_type": "execute_result"
    }
   ],
   "source": [
    "data.head()"
   ]
  },
  {
   "cell_type": "code",
   "execution_count": 9,
   "id": "34e87064",
   "metadata": {},
   "outputs": [
    {
     "name": "stdout",
     "output_type": "stream",
     "text": [
      "-----Shape of the dataset-----\n"
     ]
    },
    {
     "data": {
      "text/plain": [
       "(50000, 2)"
      ]
     },
     "execution_count": 9,
     "metadata": {},
     "output_type": "execute_result"
    }
   ],
   "source": [
    "#printing the shape of the dataset\n",
    "print('-----Shape of the dataset-----')\n",
    "data.shape"
   ]
  },
  {
   "cell_type": "code",
   "execution_count": 10,
   "id": "d0229d8e",
   "metadata": {},
   "outputs": [
    {
     "data": {
      "text/plain": [
       "0    25000\n",
       "1    25000\n",
       "Name: sentiment, dtype: int64"
      ]
     },
     "execution_count": 10,
     "metadata": {},
     "output_type": "execute_result"
    }
   ],
   "source": [
    "#printing the distribution of the dataset\n",
    "data['sentiment'].value_counts()"
   ]
  },
  {
   "cell_type": "code",
   "execution_count": 11,
   "id": "dc0f60b2",
   "metadata": {},
   "outputs": [
    {
     "name": "stdout",
     "output_type": "stream",
     "text": [
      "we have 0 Nan/null values in the dataset\n",
      "Number of duplicates in dataset 418\n"
     ]
    }
   ],
   "source": [
    "#Nan/Null Value and Duplicate Checks\n",
    "print('we have {} Nan/null values in the dataset'.format(data.isnull().values.sum()))\n",
    "print('Number of duplicates in dataset {}'.format(sum(data['review'].duplicated())))"
   ]
  },
  {
   "cell_type": "code",
   "execution_count": 12,
   "id": "51de2da6",
   "metadata": {},
   "outputs": [
    {
     "name": "stdout",
     "output_type": "stream",
     "text": [
      "==== Removing Duplicates=====\n"
     ]
    },
    {
     "data": {
      "text/plain": [
       "(49582, 2)"
      ]
     },
     "execution_count": 12,
     "metadata": {},
     "output_type": "execute_result"
    }
   ],
   "source": [
    "#removing duplicates\n",
    "print('==== Removing Duplicates=====')\n",
    "data = data.drop_duplicates(subset={'review'},keep='first', inplace=False)\n",
    "data.shape"
   ]
  },
  {
   "cell_type": "code",
   "execution_count": 13,
   "id": "fe20800d",
   "metadata": {},
   "outputs": [
    {
     "name": "stdout",
     "output_type": "stream",
     "text": [
      "------PRINTING SOME RANDOM REVIEWS-----\n",
      "\n",
      "\n",
      "One of the other reviewers has mentioned that after watching just 1 Oz episode you'll be hooked. They are right, as this is exactly what happened with me.<br /><br />The first thing that struck me about Oz was its brutality and unflinching scenes of violence, which set in right from the word GO. Trust me, this is not a show for the faint hearted or timid. This show pulls no punches with regards to drugs, sex or violence. Its is hardcore, in the classic use of the word.<br /><br />It is called OZ as that is the nickname given to the Oswald Maximum Security State Penitentary. It focuses mainly on Emerald City, an experimental section of the prison where all the cells have glass fronts and face inwards, so privacy is not high on the agenda. Em City is home to many..Aryans, Muslims, gangstas, Latinos, Christians, Italians, Irish and more....so scuffles, death stares, dodgy dealings and shady agreements are never far away.<br /><br />I would say the main appeal of the show is due to the fact that it goes where other shows wouldn't dare. Forget pretty pictures painted for mainstream audiences, forget charm, forget romance...OZ doesn't mess around. The first episode I ever saw struck me as so nasty it was surreal, I couldn't say I was ready for it, but as I watched more, I developed a taste for Oz, and got accustomed to the high levels of graphic violence. Not just violence, but injustice (crooked guards who'll be sold out for a nickel, inmates who'll kill on order and get away with it, well mannered, middle class inmates being turned into prison bitches due to their lack of street skills or prison experience) Watching Oz, you may become comfortable with what is uncomfortable viewing....thats if you can get in touch with your darker side.\n",
      "========================================================================================================================================================================================================\n",
      "This movie is awful, I can't even be bothered to write a review on this garbage! All i will say it is one of the most boring films I've ever seen.<br /><br />And the acting is very bad. The boy who plays the main character really annoys me, he's got the same expression on his face through out the movie. I just want to slap him! Basically 80% of the movie is slow motion shots of skateboarders, weird music, and utter sh*t..<br /><br />Apparently I've got to write at least 10 lines of text to submit this comment, so I'll use up a few more lines by saying the lead character has got one of those faces you just want to slap!<br /><br />Meh i give up..THIS MOVIE SUCKS !!!!\n",
      "========================================================================================================================================================================================================\n",
      "Oh dear god. This was horrible. There is bad, then there was this. This movie makes no sense at all. It runs all over the map and isn't clear about what its saying at all. The music seemed like it was trying to be like Batman. The fact that 'Edison' isn't a real city, takes away. Since I live in Vancouver, watching this movie and recognizing all these places made it unbearable. Why didn't they make it a real city? The only writing that was decent was'Tilman' in which John Heard did a fantastic job. He was the only actor who played his role realistically and not over the top and campy. It was actually a shame to see John Heard play such a great bad guy with a lot of screen time, and the movie be a washout. Too bad. Hopefully someone important will see it, and at least give John Heard credit where credit is due, and hire him as lead bad guy again, which is where he should be. on the A List.\n",
      "========================================================================================================================================================================================================\n",
      "I may not have the longest of attention-spans, but this is the second movie I have refused to see all the way through, and I even bought it on DVD because of its \"classic\" status. <br /><br />At first, I thought that the director was playing a big joke, so I kept waiting for a resolution, something to laugh at, something to keep my interest, but this resolution never came. Rather, the writing was laughably amateurish, the movie dragged on and felt disjointed, like someone cut a TV series to feature-length. The Academy must have been on drugs when they nominated this movie for no less than eight Oscars.<br /><br />Once again, I repeat myself. This is the second movie I have refused to watch all the way through. The first was \"Exterminator\". I hope this gives you an indication of how bad it really is. 1/10\n",
      "========================================================================================================================================================================================================\n"
     ]
    }
   ],
   "source": [
    "# printing some random reviews\n",
    "print('------PRINTING SOME RANDOM REVIEWS-----')\n",
    "print('\\n')\n",
    "sent_0 = data['review'].values[0]\n",
    "print(sent_0)\n",
    "\n",
    "print(\"=\"*200)\n",
    "\n",
    "sent_1000 = data['review'].values[1000]\n",
    "print(sent_1000)\n",
    "print(\"=\"*200)\n",
    "\n",
    "sent_1500 = data['review'].values[1500]\n",
    "print(sent_1500)\n",
    "print(\"=\"*200)\n",
    "\n",
    "sent_4900 = data['review'].values[4900]\n",
    "print(sent_4900)\n",
    "print(\"=\"*200)"
   ]
  },
  {
   "cell_type": "markdown",
   "id": "c580fdc1",
   "metadata": {},
   "source": [
    "# Removing all urls from the data"
   ]
  },
  {
   "cell_type": "code",
   "execution_count": 14,
   "id": "8e20ef72",
   "metadata": {},
   "outputs": [
    {
     "name": "stdout",
     "output_type": "stream",
     "text": [
      "One of the other reviewers has mentioned that after watching just 1 Oz episode you'll be hooked. They are right, as this is exactly what happened with me.<br /><br />The first thing that struck me about Oz was its brutality and unflinching scenes of violence, which set in right from the word GO. Trust me, this is not a show for the faint hearted or timid. This show pulls no punches with regards to drugs, sex or violence. Its is hardcore, in the classic use of the word.<br /><br />It is called OZ as that is the nickname given to the Oswald Maximum Security State Penitentary. It focuses mainly on Emerald City, an experimental section of the prison where all the cells have glass fronts and face inwards, so privacy is not high on the agenda. Em City is home to many..Aryans, Muslims, gangstas, Latinos, Christians, Italians, Irish and more....so scuffles, death stares, dodgy dealings and shady agreements are never far away.<br /><br />I would say the main appeal of the show is due to the fact that it goes where other shows wouldn't dare. Forget pretty pictures painted for mainstream audiences, forget charm, forget romance...OZ doesn't mess around. The first episode I ever saw struck me as so nasty it was surreal, I couldn't say I was ready for it, but as I watched more, I developed a taste for Oz, and got accustomed to the high levels of graphic violence. Not just violence, but injustice (crooked guards who'll be sold out for a nickel, inmates who'll kill on order and get away with it, well mannered, middle class inmates being turned into prison bitches due to their lack of street skills or prison experience) Watching Oz, you may become comfortable with what is uncomfortable viewing....thats if you can get in touch with your darker side.\n"
     ]
    }
   ],
   "source": [
    "# remove urls from text python: https://stackoverflow.com/a/40823105/4084039\n",
    "sent_0 = re.sub(r\"http\\S+\", \"\", sent_0)\n",
    "sent_1000 = re.sub(r\"http\\S+\", \"\", sent_1000)\n",
    "sent_150 = re.sub(r\"http\\S+\", \"\", sent_1500)\n",
    "sent_4900 = re.sub(r\"http\\S+\", \"\", sent_4900)\n",
    "\n",
    "print(sent_0)\n",
    "\n"
   ]
  },
  {
   "cell_type": "markdown",
   "id": "32f7ce2a",
   "metadata": {},
   "source": [
    "# Removing all tags from the data"
   ]
  },
  {
   "cell_type": "code",
   "execution_count": 15,
   "id": "8d0ca624",
   "metadata": {},
   "outputs": [
    {
     "name": "stdout",
     "output_type": "stream",
     "text": [
      "One of the other reviewers has mentioned that after watching just 1 Oz episode you'll be hooked. They are right, as this is exactly what happened with me.The first thing that struck me about Oz was its brutality and unflinching scenes of violence, which set in right from the word GO. Trust me, this is not a show for the faint hearted or timid. This show pulls no punches with regards to drugs, sex or violence. Its is hardcore, in the classic use of the word.It is called OZ as that is the nickname given to the Oswald Maximum Security State Penitentary. It focuses mainly on Emerald City, an experimental section of the prison where all the cells have glass fronts and face inwards, so privacy is not high on the agenda. Em City is home to many..Aryans, Muslims, gangstas, Latinos, Christians, Italians, Irish and more....so scuffles, death stares, dodgy dealings and shady agreements are never far away.I would say the main appeal of the show is due to the fact that it goes where other shows wouldn't dare. Forget pretty pictures painted for mainstream audiences, forget charm, forget romance...OZ doesn't mess around. The first episode I ever saw struck me as so nasty it was surreal, I couldn't say I was ready for it, but as I watched more, I developed a taste for Oz, and got accustomed to the high levels of graphic violence. Not just violence, but injustice (crooked guards who'll be sold out for a nickel, inmates who'll kill on order and get away with it, well mannered, middle class inmates being turned into prison bitches due to their lack of street skills or prison experience) Watching Oz, you may become comfortable with what is uncomfortable viewing....thats if you can get in touch with your darker side.\n",
      "========================================================================================================================================================================================================\n",
      "This movie is awful, I can't even be bothered to write a review on this garbage! All i will say it is one of the most boring films I've ever seen.And the acting is very bad. The boy who plays the main character really annoys me, he's got the same expression on his face through out the movie. I just want to slap him! Basically 80% of the movie is slow motion shots of skateboarders, weird music, and utter sh*t..Apparently I've got to write at least 10 lines of text to submit this comment, so I'll use up a few more lines by saying the lead character has got one of those faces you just want to slap!Meh i give up..THIS MOVIE SUCKS !!!!\n",
      "========================================================================================================================================================================================================\n",
      "Oh dear god. This was horrible. There is bad, then there was this. This movie makes no sense at all. It runs all over the map and isn't clear about what its saying at all. The music seemed like it was trying to be like Batman. The fact that 'Edison' isn't a real city, takes away. Since I live in Vancouver, watching this movie and recognizing all these places made it unbearable. Why didn't they make it a real city? The only writing that was decent was'Tilman' in which John Heard did a fantastic job. He was the only actor who played his role realistically and not over the top and campy. It was actually a shame to see John Heard play such a great bad guy with a lot of screen time, and the movie be a washout. Too bad. Hopefully someone important will see it, and at least give John Heard credit where credit is due, and hire him as lead bad guy again, which is where he should be. on the A List.\n",
      "========================================================================================================================================================================================================\n",
      "I may not have the longest of attention-spans, but this is the second movie I have refused to see all the way through, and I even bought it on DVD because of its \"classic\" status. At first, I thought that the director was playing a big joke, so I kept waiting for a resolution, something to laugh at, something to keep my interest, but this resolution never came. Rather, the writing was laughably amateurish, the movie dragged on and felt disjointed, like someone cut a TV series to feature-length. The Academy must have been on drugs when they nominated this movie for no less than eight Oscars.Once again, I repeat myself. This is the second movie I have refused to watch all the way through. The first was \"Exterminator\". I hope this gives you an indication of how bad it really is. 1/10\n"
     ]
    }
   ],
   "source": [
    "#Removing all tags from the reviews\n",
    "# https://stackoverflow.com/questions/16206380/python-beautifulsoup-how-to-remove-all-tags-from-an-element\n",
    "\n",
    "soup = BeautifulSoup(sent_0, 'lxml')\n",
    "text = soup.get_text()\n",
    "print(text)\n",
    "print(\"=\"*200)\n",
    "\n",
    "soup = BeautifulSoup(sent_1000, 'lxml')\n",
    "text = soup.get_text()\n",
    "print(text)\n",
    "print(\"=\"*200)\n",
    "\n",
    "soup = BeautifulSoup(sent_1500, 'lxml')\n",
    "text = soup.get_text()\n",
    "print(text)\n",
    "print(\"=\"*200)\n",
    "\n",
    "soup = BeautifulSoup(sent_4900, 'lxml')\n",
    "text = soup.get_text()\n",
    "print(text)"
   ]
  },
  {
   "cell_type": "markdown",
   "id": "760c0c3b",
   "metadata": {},
   "source": [
    "# Decontracting the words"
   ]
  },
  {
   "cell_type": "code",
   "execution_count": 16,
   "id": "6f926d1a",
   "metadata": {},
   "outputs": [],
   "source": [
    "# https://stackoverflow.com/a/47091490/4084039\n",
    "\n",
    "def decontracted(phrase):\n",
    "    phrase = re.sub(r\"won't\", \"will not\", phrase)\n",
    "    phrase = re.sub(r\"can\\'t\", \"can not\", phrase)\n",
    "    phrase = re.sub(r\"n\\'t\", \" not\", phrase)\n",
    "    phrase = re.sub(r\"\\'re\", \" are\", phrase)\n",
    "    phrase = re.sub(r\"\\'s\", \" is\", phrase)\n",
    "    phrase = re.sub(r\"\\'d\", \" would\", phrase)\n",
    "    phrase = re.sub(r\"\\'ll\", \" will\", phrase)\n",
    "    phrase = re.sub(r\"\\'t\", \" not\", phrase)\n",
    "    phrase = re.sub(r\"\\'ve\", \" have\", phrase)\n",
    "    phrase = re.sub(r\"\\'m\", \" am\", phrase)\n",
    "    return phrase"
   ]
  },
  {
   "cell_type": "markdown",
   "id": "20af63d6",
   "metadata": {},
   "source": [
    "# Removing words with numbers from data"
   ]
  },
  {
   "cell_type": "code",
   "execution_count": 17,
   "id": "8ece283f",
   "metadata": {},
   "outputs": [
    {
     "name": "stdout",
     "output_type": "stream",
     "text": [
      "One of the other reviewers has mentioned that after watching just  Oz episode you'll be hooked. They are right, as this is exactly what happened with me.<br /><br />The first thing that struck me about Oz was its brutality and unflinching scenes of violence, which set in right from the word GO. Trust me, this is not a show for the faint hearted or timid. This show pulls no punches with regards to drugs, sex or violence. Its is hardcore, in the classic use of the word.<br /><br />It is called OZ as that is the nickname given to the Oswald Maximum Security State Penitentary. It focuses mainly on Emerald City, an experimental section of the prison where all the cells have glass fronts and face inwards, so privacy is not high on the agenda. Em City is home to many..Aryans, Muslims, gangstas, Latinos, Christians, Italians, Irish and more....so scuffles, death stares, dodgy dealings and shady agreements are never far away.<br /><br />I would say the main appeal of the show is due to the fact that it goes where other shows wouldn't dare. Forget pretty pictures painted for mainstream audiences, forget charm, forget romance...OZ doesn't mess around. The first episode I ever saw struck me as so nasty it was surreal, I couldn't say I was ready for it, but as I watched more, I developed a taste for Oz, and got accustomed to the high levels of graphic violence. Not just violence, but injustice (crooked guards who'll be sold out for a nickel, inmates who'll kill on order and get away with it, well mannered, middle class inmates being turned into prison bitches due to their lack of street skills or prison experience) Watching Oz, you may become comfortable with what is uncomfortable viewing....thats if you can get in touch with your darker side.\n"
     ]
    }
   ],
   "source": [
    "#remove words with numbers python: https://stackoverflow.com/a/18082370/4084039\n",
    "sent_0 = re.sub(\"\\S*\\d\\S*\", \"\", sent_0).strip()\n",
    "print(sent_0)"
   ]
  },
  {
   "cell_type": "markdown",
   "id": "c0be9a1a",
   "metadata": {},
   "source": [
    "# Removing special character from data"
   ]
  },
  {
   "cell_type": "code",
   "execution_count": 18,
   "id": "95a38465",
   "metadata": {},
   "outputs": [
    {
     "name": "stdout",
     "output_type": "stream",
     "text": [
      "Oh dear god This was horrible There is bad then there was this This movie makes no sense at all It runs all over the map and isn t clear about what its saying at all The music seemed like it was trying to be like Batman The fact that Edison isn t a real city takes away Since I live in Vancouver watching this movie and recognizing all these places made it unbearable Why didn t they make it a real city The only writing that was decent was Tilman in which John Heard did a fantastic job He was the only actor who played his role realistically and not over the top and campy It was actually a shame to see John Heard play such a great bad guy with a lot of screen time and the movie be a washout Too bad Hopefully someone important will see it and at least give John Heard credit where credit is due and hire him as lead bad guy again which is where he should be on the A List \n"
     ]
    }
   ],
   "source": [
    "#remove special character: https://stackoverflow.com/a/5843547/4084039\n",
    "sent_1500 = re.sub('[^A-Za-z0-9]+', ' ', sent_1500)\n",
    "print(sent_1500)"
   ]
  },
  {
   "cell_type": "code",
   "execution_count": 19,
   "id": "b8fd3526",
   "metadata": {},
   "outputs": [
    {
     "name": "stderr",
     "output_type": "stream",
     "text": [
      "[nltk_data] Downloading package stopwords to C:\\Users\\Vaddiraju Sri\n",
      "[nltk_data]     Harsha\\AppData\\Roaming\\nltk_data...\n",
      "[nltk_data]   Package stopwords is already up-to-date!\n"
     ]
    }
   ],
   "source": [
    "nltk.download('stopwords')\n",
    "eng_stopwords = set(stopwords.words('english'))\n",
    "def cleaning(data):\n",
    "    preprocessed_reviews = []\n",
    "    for sentance in tqdm(data['review'].values):\n",
    "        sentance = re.sub(r\"http\\S+\", \"\", sentance)\n",
    "        sentance = BeautifulSoup(sentance, 'lxml').get_text()\n",
    "        sentance = decontracted(sentance)\n",
    "        sentance = re.sub(\"\\S*\\d\\S*\", \"\", sentance).strip()\n",
    "        sentance = re.sub('[^A-Za-z]+', ' ', sentance)\n",
    "        sentance = ' '.join(e.lower() for e in sentance.split() if e.lower() not in eng_stopwords) #removing stopwords and converting into lowercase letters\n",
    "        preprocessed_reviews.append(sentance.strip())\n",
    "    data['review']=preprocessed_reviews\n",
    "    return data\n"
   ]
  },
  {
   "cell_type": "code",
   "execution_count": 20,
   "id": "cbb46e77",
   "metadata": {},
   "outputs": [
    {
     "name": "stderr",
     "output_type": "stream",
     "text": [
      "100%|██████████████████████████████████████████████████████████████████████████| 49582/49582 [00:21<00:00, 2340.91it/s]\n"
     ]
    }
   ],
   "source": [
    "data_after_cleaning = cleaning(data)\n",
    "data_after_cleaning.to_csv('after_cleaning.csv')"
   ]
  },
  {
   "cell_type": "code",
   "execution_count": 25,
   "id": "41664735",
   "metadata": {},
   "outputs": [
    {
     "name": "stdout",
     "output_type": "stream",
     "text": [
      "short film inspired soon full length feature spatula madness hilarious piece contends similar cartoons yielding multiple writers short film stars edward spatula fired job joins fight evil spoons premise allows funny content near beginning barely present remainder feature film running time absorbed odd ball comedy small musical number unfortunately much else lies plot set really time show surely follows plot better many high budget hollywood films film worth watching least times take expect deep story\n"
     ]
    }
   ],
   "source": [
    "#data after cleaning\n",
    "print(data_after_cleaning['review'].values[100])"
   ]
  },
  {
   "cell_type": "markdown",
   "id": "2bf1d044",
   "metadata": {},
   "source": [
    "# Stemming"
   ]
  },
  {
   "cell_type": "code",
   "execution_count": 29,
   "id": "bfbf7e4c",
   "metadata": {},
   "outputs": [],
   "source": [
    "def stemmer(data):\n",
    "    \n",
    "    review_clean_ps = []\n",
    "    ps = PorterStemmer()\n",
    "    for sentance in tqdm(data['review'].values):\n",
    "        \n",
    "        ps_stems = []\n",
    "        \n",
    "        for w in sentance.split():\n",
    "            if w == 'oed':\n",
    "                continue\n",
    "                ps_stems.append(ps.stem(w))\n",
    "                \n",
    "                review_clean_ps.append(' '.join(ps_stems))\n",
    "                \n",
    "                data['review']=review_clean_ps\n",
    "    return data\n",
    "                \n",
    "    "
   ]
  },
  {
   "cell_type": "code",
   "execution_count": 30,
   "id": "afd41297",
   "metadata": {},
   "outputs": [
    {
     "name": "stderr",
     "output_type": "stream",
     "text": [
      "100%|████████████████████████████████████████████████████████████████████████| 49582/49582 [00:00<00:00, 104382.45it/s]\n"
     ]
    }
   ],
   "source": [
    "data_stemmer=stemmer(data_after_cleaning)"
   ]
  },
  {
   "cell_type": "code",
   "execution_count": 48,
   "id": "9bea6324",
   "metadata": {},
   "outputs": [],
   "source": [
    "def get_wordnet_pos(treebank_tag):\n",
    "\n",
    "    if treebank_tag.startswith('J'):\n",
    "        return wordnet.ADJ\n",
    "    elif treebank_tag.startswith('V'):\n",
    "        return wordnet.VERB\n",
    "    elif treebank_tag.startswith('N'):\n",
    "        return wordnet.NOUN\n",
    "    elif treebank_tag.startswith('R'):\n",
    "        return wordnet.ADV\n",
    "    else:\n",
    "        return 'n'"
   ]
  },
  {
   "cell_type": "markdown",
   "id": "7411a949",
   "metadata": {},
   "source": [
    "# Lemmatization"
   ]
  },
  {
   "cell_type": "code",
   "execution_count": 63,
   "id": "119ae791",
   "metadata": {},
   "outputs": [],
   "source": [
    "\n",
    "def lemmatizer(data):\n",
    "    review_clean_wnl = []\n",
    "    wnl = WordNetLemmatizer()\n",
    "    for sentance in tqdm(data['review'].values):\n",
    "        wnl_stems = []\n",
    "        token_tag = pos_tag(sentance.split())\n",
    "        for pair in token_tag:\n",
    "            res = wnl.lemmatize(pair[0],pos=get_wordnet_pos(pair[1]))\n",
    "            wnl_stems.append(res)\n",
    "            review_clean_wnl.append(' '.join(wnl_stems))\n",
    "            data['review']=review_clean_wnl\n",
    "    return data\n",
    "                "
   ]
  },
  {
   "cell_type": "code",
   "execution_count": 64,
   "id": "2f66516d",
   "metadata": {},
   "outputs": [
    {
     "name": "stderr",
     "output_type": "stream",
     "text": [
      "  0%|                                                                                        | 0/49582 [00:00<?, ?it/s]\n"
     ]
    },
    {
     "ename": "ValueError",
     "evalue": "Length of values (1) does not match length of index (49582)",
     "output_type": "error",
     "traceback": [
      "\u001b[1;31m---------------------------------------------------------------------------\u001b[0m",
      "\u001b[1;31mValueError\u001b[0m                                Traceback (most recent call last)",
      "\u001b[1;32m<ipython-input-64-a5a541c252b2>\u001b[0m in \u001b[0;36m<module>\u001b[1;34m\u001b[0m\n\u001b[1;32m----> 1\u001b[1;33m \u001b[0mdata_lemma\u001b[0m\u001b[1;33m=\u001b[0m \u001b[0mlemmatization\u001b[0m\u001b[1;33m(\u001b[0m\u001b[0mdata_stemmer\u001b[0m\u001b[1;33m)\u001b[0m\u001b[1;33m\u001b[0m\u001b[1;33m\u001b[0m\u001b[0m\n\u001b[0m",
      "\u001b[1;32m<ipython-input-55-eb2b77414c8d>\u001b[0m in \u001b[0;36mlemmatization\u001b[1;34m(data)\u001b[0m\n\u001b[0;32m     13\u001b[0m             \u001b[0mwnl_stems\u001b[0m\u001b[1;33m.\u001b[0m\u001b[0mappend\u001b[0m\u001b[1;33m(\u001b[0m\u001b[0mres\u001b[0m\u001b[1;33m)\u001b[0m\u001b[1;33m\u001b[0m\u001b[1;33m\u001b[0m\u001b[0m\n\u001b[0;32m     14\u001b[0m             \u001b[0mreview_clean_wnl\u001b[0m\u001b[1;33m.\u001b[0m\u001b[0mappend\u001b[0m\u001b[1;33m(\u001b[0m\u001b[1;34m' '\u001b[0m\u001b[1;33m.\u001b[0m\u001b[0mjoin\u001b[0m\u001b[1;33m(\u001b[0m\u001b[0mwnl_stems\u001b[0m\u001b[1;33m)\u001b[0m\u001b[1;33m)\u001b[0m\u001b[1;33m\u001b[0m\u001b[1;33m\u001b[0m\u001b[0m\n\u001b[1;32m---> 15\u001b[1;33m             \u001b[0mdata\u001b[0m\u001b[1;33m[\u001b[0m\u001b[1;34m'review'\u001b[0m\u001b[1;33m]\u001b[0m\u001b[1;33m=\u001b[0m\u001b[0mreview_clean_wnl\u001b[0m\u001b[1;33m\u001b[0m\u001b[1;33m\u001b[0m\u001b[0m\n\u001b[0m\u001b[0;32m     16\u001b[0m     \u001b[1;32mreturn\u001b[0m \u001b[0mdata\u001b[0m\u001b[1;33m\u001b[0m\u001b[1;33m\u001b[0m\u001b[0m\n",
      "\u001b[1;32m~\\anaconda3\\lib\\site-packages\\pandas\\core\\frame.py\u001b[0m in \u001b[0;36m__setitem__\u001b[1;34m(self, key, value)\u001b[0m\n\u001b[0;32m   3161\u001b[0m         \u001b[1;32melse\u001b[0m\u001b[1;33m:\u001b[0m\u001b[1;33m\u001b[0m\u001b[1;33m\u001b[0m\u001b[0m\n\u001b[0;32m   3162\u001b[0m             \u001b[1;31m# set column\u001b[0m\u001b[1;33m\u001b[0m\u001b[1;33m\u001b[0m\u001b[1;33m\u001b[0m\u001b[0m\n\u001b[1;32m-> 3163\u001b[1;33m             \u001b[0mself\u001b[0m\u001b[1;33m.\u001b[0m\u001b[0m_set_item\u001b[0m\u001b[1;33m(\u001b[0m\u001b[0mkey\u001b[0m\u001b[1;33m,\u001b[0m \u001b[0mvalue\u001b[0m\u001b[1;33m)\u001b[0m\u001b[1;33m\u001b[0m\u001b[1;33m\u001b[0m\u001b[0m\n\u001b[0m\u001b[0;32m   3164\u001b[0m \u001b[1;33m\u001b[0m\u001b[0m\n\u001b[0;32m   3165\u001b[0m     \u001b[1;32mdef\u001b[0m \u001b[0m_setitem_slice\u001b[0m\u001b[1;33m(\u001b[0m\u001b[0mself\u001b[0m\u001b[1;33m,\u001b[0m \u001b[0mkey\u001b[0m\u001b[1;33m:\u001b[0m \u001b[0mslice\u001b[0m\u001b[1;33m,\u001b[0m \u001b[0mvalue\u001b[0m\u001b[1;33m)\u001b[0m\u001b[1;33m:\u001b[0m\u001b[1;33m\u001b[0m\u001b[1;33m\u001b[0m\u001b[0m\n",
      "\u001b[1;32m~\\anaconda3\\lib\\site-packages\\pandas\\core\\frame.py\u001b[0m in \u001b[0;36m_set_item\u001b[1;34m(self, key, value)\u001b[0m\n\u001b[0;32m   3240\u001b[0m         \"\"\"\n\u001b[0;32m   3241\u001b[0m         \u001b[0mself\u001b[0m\u001b[1;33m.\u001b[0m\u001b[0m_ensure_valid_index\u001b[0m\u001b[1;33m(\u001b[0m\u001b[0mvalue\u001b[0m\u001b[1;33m)\u001b[0m\u001b[1;33m\u001b[0m\u001b[1;33m\u001b[0m\u001b[0m\n\u001b[1;32m-> 3242\u001b[1;33m         \u001b[0mvalue\u001b[0m \u001b[1;33m=\u001b[0m \u001b[0mself\u001b[0m\u001b[1;33m.\u001b[0m\u001b[0m_sanitize_column\u001b[0m\u001b[1;33m(\u001b[0m\u001b[0mkey\u001b[0m\u001b[1;33m,\u001b[0m \u001b[0mvalue\u001b[0m\u001b[1;33m)\u001b[0m\u001b[1;33m\u001b[0m\u001b[1;33m\u001b[0m\u001b[0m\n\u001b[0m\u001b[0;32m   3243\u001b[0m         \u001b[0mNDFrame\u001b[0m\u001b[1;33m.\u001b[0m\u001b[0m_set_item\u001b[0m\u001b[1;33m(\u001b[0m\u001b[0mself\u001b[0m\u001b[1;33m,\u001b[0m \u001b[0mkey\u001b[0m\u001b[1;33m,\u001b[0m \u001b[0mvalue\u001b[0m\u001b[1;33m)\u001b[0m\u001b[1;33m\u001b[0m\u001b[1;33m\u001b[0m\u001b[0m\n\u001b[0;32m   3244\u001b[0m \u001b[1;33m\u001b[0m\u001b[0m\n",
      "\u001b[1;32m~\\anaconda3\\lib\\site-packages\\pandas\\core\\frame.py\u001b[0m in \u001b[0;36m_sanitize_column\u001b[1;34m(self, key, value, broadcast)\u001b[0m\n\u001b[0;32m   3897\u001b[0m \u001b[1;33m\u001b[0m\u001b[0m\n\u001b[0;32m   3898\u001b[0m             \u001b[1;31m# turn me into an ndarray\u001b[0m\u001b[1;33m\u001b[0m\u001b[1;33m\u001b[0m\u001b[1;33m\u001b[0m\u001b[0m\n\u001b[1;32m-> 3899\u001b[1;33m             \u001b[0mvalue\u001b[0m \u001b[1;33m=\u001b[0m \u001b[0msanitize_index\u001b[0m\u001b[1;33m(\u001b[0m\u001b[0mvalue\u001b[0m\u001b[1;33m,\u001b[0m \u001b[0mself\u001b[0m\u001b[1;33m.\u001b[0m\u001b[0mindex\u001b[0m\u001b[1;33m)\u001b[0m\u001b[1;33m\u001b[0m\u001b[1;33m\u001b[0m\u001b[0m\n\u001b[0m\u001b[0;32m   3900\u001b[0m             \u001b[1;32mif\u001b[0m \u001b[1;32mnot\u001b[0m \u001b[0misinstance\u001b[0m\u001b[1;33m(\u001b[0m\u001b[0mvalue\u001b[0m\u001b[1;33m,\u001b[0m \u001b[1;33m(\u001b[0m\u001b[0mnp\u001b[0m\u001b[1;33m.\u001b[0m\u001b[0mndarray\u001b[0m\u001b[1;33m,\u001b[0m \u001b[0mIndex\u001b[0m\u001b[1;33m)\u001b[0m\u001b[1;33m)\u001b[0m\u001b[1;33m:\u001b[0m\u001b[1;33m\u001b[0m\u001b[1;33m\u001b[0m\u001b[0m\n\u001b[0;32m   3901\u001b[0m                 \u001b[1;32mif\u001b[0m \u001b[0misinstance\u001b[0m\u001b[1;33m(\u001b[0m\u001b[0mvalue\u001b[0m\u001b[1;33m,\u001b[0m \u001b[0mlist\u001b[0m\u001b[1;33m)\u001b[0m \u001b[1;32mand\u001b[0m \u001b[0mlen\u001b[0m\u001b[1;33m(\u001b[0m\u001b[0mvalue\u001b[0m\u001b[1;33m)\u001b[0m \u001b[1;33m>\u001b[0m \u001b[1;36m0\u001b[0m\u001b[1;33m:\u001b[0m\u001b[1;33m\u001b[0m\u001b[1;33m\u001b[0m\u001b[0m\n",
      "\u001b[1;32m~\\anaconda3\\lib\\site-packages\\pandas\\core\\internals\\construction.py\u001b[0m in \u001b[0;36msanitize_index\u001b[1;34m(data, index)\u001b[0m\n\u001b[0;32m    749\u001b[0m     \"\"\"\n\u001b[0;32m    750\u001b[0m     \u001b[1;32mif\u001b[0m \u001b[0mlen\u001b[0m\u001b[1;33m(\u001b[0m\u001b[0mdata\u001b[0m\u001b[1;33m)\u001b[0m \u001b[1;33m!=\u001b[0m \u001b[0mlen\u001b[0m\u001b[1;33m(\u001b[0m\u001b[0mindex\u001b[0m\u001b[1;33m)\u001b[0m\u001b[1;33m:\u001b[0m\u001b[1;33m\u001b[0m\u001b[1;33m\u001b[0m\u001b[0m\n\u001b[1;32m--> 751\u001b[1;33m         raise ValueError(\n\u001b[0m\u001b[0;32m    752\u001b[0m             \u001b[1;34m\"Length of values \"\u001b[0m\u001b[1;33m\u001b[0m\u001b[1;33m\u001b[0m\u001b[0m\n\u001b[0;32m    753\u001b[0m             \u001b[1;34mf\"({len(data)}) \"\u001b[0m\u001b[1;33m\u001b[0m\u001b[1;33m\u001b[0m\u001b[0m\n",
      "\u001b[1;31mValueError\u001b[0m: Length of values (1) does not match length of index (49582)"
     ]
    }
   ],
   "source": []
  },
  {
   "cell_type": "code",
   "execution_count": 72,
   "id": "0df16e6f",
   "metadata": {},
   "outputs": [],
   "source": [
    "data_model=pd.read_csv(\"D:/Applied AI/Projects/after_cleaning.csv\")"
   ]
  },
  {
   "cell_type": "code",
   "execution_count": 73,
   "id": "d5e235ac",
   "metadata": {},
   "outputs": [
    {
     "data": {
      "text/html": [
       "<div>\n",
       "<style scoped>\n",
       "    .dataframe tbody tr th:only-of-type {\n",
       "        vertical-align: middle;\n",
       "    }\n",
       "\n",
       "    .dataframe tbody tr th {\n",
       "        vertical-align: top;\n",
       "    }\n",
       "\n",
       "    .dataframe thead th {\n",
       "        text-align: right;\n",
       "    }\n",
       "</style>\n",
       "<table border=\"1\" class=\"dataframe\">\n",
       "  <thead>\n",
       "    <tr style=\"text-align: right;\">\n",
       "      <th></th>\n",
       "      <th>Unnamed: 0</th>\n",
       "      <th>review</th>\n",
       "      <th>sentiment</th>\n",
       "    </tr>\n",
       "  </thead>\n",
       "  <tbody>\n",
       "    <tr>\n",
       "      <th>0</th>\n",
       "      <td>0</td>\n",
       "      <td>one reviewers mentioned watching oz episode ho...</td>\n",
       "      <td>1</td>\n",
       "    </tr>\n",
       "    <tr>\n",
       "      <th>1</th>\n",
       "      <td>1</td>\n",
       "      <td>wonderful little production filming technique ...</td>\n",
       "      <td>1</td>\n",
       "    </tr>\n",
       "    <tr>\n",
       "      <th>2</th>\n",
       "      <td>2</td>\n",
       "      <td>thought wonderful way spend time hot summer we...</td>\n",
       "      <td>1</td>\n",
       "    </tr>\n",
       "    <tr>\n",
       "      <th>3</th>\n",
       "      <td>3</td>\n",
       "      <td>basically family little boy jake thinks zombie...</td>\n",
       "      <td>0</td>\n",
       "    </tr>\n",
       "    <tr>\n",
       "      <th>4</th>\n",
       "      <td>4</td>\n",
       "      <td>petter mattei love time money visually stunnin...</td>\n",
       "      <td>1</td>\n",
       "    </tr>\n",
       "  </tbody>\n",
       "</table>\n",
       "</div>"
      ],
      "text/plain": [
       "   Unnamed: 0                                             review  sentiment\n",
       "0           0  one reviewers mentioned watching oz episode ho...          1\n",
       "1           1  wonderful little production filming technique ...          1\n",
       "2           2  thought wonderful way spend time hot summer we...          1\n",
       "3           3  basically family little boy jake thinks zombie...          0\n",
       "4           4  petter mattei love time money visually stunnin...          1"
      ]
     },
     "execution_count": 73,
     "metadata": {},
     "output_type": "execute_result"
    }
   ],
   "source": [
    "data_model.head()"
   ]
  },
  {
   "cell_type": "code",
   "execution_count": 74,
   "id": "31e45658",
   "metadata": {},
   "outputs": [
    {
     "name": "stdout",
     "output_type": "stream",
     "text": [
      "-----SHAPE OF THE DATASET\n",
      "(49582, 3)\n"
     ]
    }
   ],
   "source": [
    "print('-----SHAPE OF THE DATASET')\n",
    "print(data_model.shape)"
   ]
  },
  {
   "cell_type": "code",
   "execution_count": 75,
   "id": "b75fc11d",
   "metadata": {},
   "outputs": [
    {
     "name": "stdout",
     "output_type": "stream",
     "text": [
      "---Distribution of dataset---\n",
      "1    24884\n",
      "0    24698\n",
      "Name: sentiment, dtype: int64\n"
     ]
    }
   ],
   "source": [
    "print('---Distribution of dataset---')\n",
    "print(data_model['sentiment'].value_counts())"
   ]
  },
  {
   "cell_type": "markdown",
   "id": "9384f316",
   "metadata": {},
   "source": [
    "# Nan/Null Value and Duplicate Checks"
   ]
  },
  {
   "cell_type": "code",
   "execution_count": 79,
   "id": "0bc9ae94",
   "metadata": {},
   "outputs": [
    {
     "name": "stdout",
     "output_type": "stream",
     "text": [
      "we have 0 Nan/null values\n",
      "no.of duplicates identified 7\n"
     ]
    }
   ],
   "source": [
    "print('we have {} Nan/null values'.format(data_model.isnull().values.sum()))\n",
    "print('no.of duplicates identified {}'.format(sum(data_model['review'].duplicated())))\n"
   ]
  },
  {
   "cell_type": "code",
   "execution_count": 81,
   "id": "f7742c8b",
   "metadata": {},
   "outputs": [
    {
     "name": "stdout",
     "output_type": "stream",
     "text": [
      "-----REMOVING DUPLICATE ROWS------\n"
     ]
    },
    {
     "data": {
      "text/plain": [
       "(49575, 3)"
      ]
     },
     "execution_count": 81,
     "metadata": {},
     "output_type": "execute_result"
    }
   ],
   "source": [
    "#Dropping the duplicates\n",
    "print('-----REMOVING DUPLICATE ROWS------')\n",
    "data_model = data_model.drop_duplicates(subset={'review'},keep='first',inplace=False)\n",
    "data_model.shape"
   ]
  },
  {
   "cell_type": "code",
   "execution_count": 83,
   "id": "d8eb6e18",
   "metadata": {},
   "outputs": [
    {
     "name": "stdout",
     "output_type": "stream",
     "text": [
      "(49575,)\n",
      "(49575,)\n"
     ]
    }
   ],
   "source": [
    "X= data_model['review']\n",
    "Y= data_model['sentiment']\n",
    "print(X.shape)\n",
    "print(Y.shape)\n"
   ]
  },
  {
   "cell_type": "code",
   "execution_count": 85,
   "id": "4514e88d",
   "metadata": {},
   "outputs": [
    {
     "name": "stdout",
     "output_type": "stream",
     "text": [
      "Train data (37181,)\n",
      "Test Data (12394,)\n"
     ]
    }
   ],
   "source": [
    "#Splitting into train and test data\n",
    "X_train, X_test,y_train,y_test = train_test_split(X,Y,test_size = 0.25,random_state = 42)\n",
    "print('Train data', X_train.shape)\n",
    "print('Test Data',X_test.shape)"
   ]
  },
  {
   "cell_type": "markdown",
   "id": "562b23e0",
   "metadata": {},
   "source": [
    "For text featurizations we can use many strategies, but the most common strategies are 1) Bag of words 2) TF-IDF"
   ]
  },
  {
   "cell_type": "markdown",
   "id": "d42b70e2",
   "metadata": {},
   "source": [
    "# Bag of words"
   ]
  },
  {
   "cell_type": "code",
   "execution_count": 88,
   "id": "6769fcf0",
   "metadata": {},
   "outputs": [
    {
     "name": "stdout",
     "output_type": "stream",
     "text": [
      "After vectorizations\n",
      "(37181, 5000) (37181,)\n",
      "(12394, 5000) (12394,)\n",
      "========================================\n"
     ]
    }
   ],
   "source": [
    "#bag of words\n",
    "vectorizer_bow = CountVectorizer(min_df=10,ngram_range=(1,4), max_features=5000)\n",
    "vectorizer_bow.fit(X_train.values)  #fitting\n",
    "x_train_bow= vectorizer_bow.transform(X_train.values) \n",
    "x_test_bow= vectorizer_bow.transform(X_test.values)\n",
    "\n",
    "print(\"After vectorizations\")\n",
    "print(x_train_bow.shape, y_train.shape)\n",
    "print(x_test_bow.shape, y_test.shape)\n",
    "print(\"=\"*40)\n"
   ]
  },
  {
   "cell_type": "markdown",
   "id": "ce7da5b4",
   "metadata": {},
   "source": [
    "# TF-IDF Vectorizer"
   ]
  },
  {
   "cell_type": "code",
   "execution_count": 89,
   "id": "a03cffa7",
   "metadata": {},
   "outputs": [
    {
     "name": "stdout",
     "output_type": "stream",
     "text": [
      "After vectorizations\n",
      "(37181, 5000) (37181,)\n",
      "(12394, 5000) (12394,)\n",
      "========================================\n"
     ]
    }
   ],
   "source": [
    "#tfidf\n",
    "tfidfvectorizer = TfidfVectorizer(min_df=10,max_features=5000)\n",
    "text_tfidf = tfidfvectorizer.fit(X_train.values) #fitting\n",
    "\n",
    "X_train_tfidf =tfidfvectorizer.transform(X_train.values) \n",
    "X_test_tfidf =tfidfvectorizer.transform(X_test.values)\n",
    "\n",
    "print(\"After vectorizations\")\n",
    "print(X_train_tfidf.shape, y_train.shape)\n",
    "print(X_test_tfidf.shape, y_test.shape)\n",
    "print(\"=\"*40)"
   ]
  },
  {
   "cell_type": "markdown",
   "id": "dc02a856",
   "metadata": {},
   "source": [
    "# Modelling"
   ]
  },
  {
   "cell_type": "code",
   "execution_count": 90,
   "id": "b42f52ac",
   "metadata": {},
   "outputs": [
    {
     "name": "stdout",
     "output_type": "stream",
     "text": [
      "Tuned Logistic Regression Parameters: {'C': 3.727593720314938}\n",
      "Best score is 0.8840267101461132\n"
     ]
    }
   ],
   "source": [
    "c_space = np.logspace(-5, 8, 15)\n",
    "param_grid = {'C': c_space}\n",
    "logreg= LogisticRegression()\n",
    "logreg_cv = GridSearchCV(logreg,param_grid,cv=5)#Hyper parameter tuning\n",
    "logreg_cv.fit(X_train_tfidf,y_train)\n",
    "print(\"Tuned Logistic Regression Parameters: {}\".format(logreg_cv.best_params_)) \n",
    "print(\"Best score is {}\".format(logreg_cv.best_score_))"
   ]
  },
  {
   "cell_type": "code",
   "execution_count": 92,
   "id": "b1d8b3e9",
   "metadata": {},
   "outputs": [
    {
     "data": {
      "text/plain": [
       "LogisticRegression(C=3.727593720314938)"
      ]
     },
     "execution_count": 92,
     "metadata": {},
     "output_type": "execute_result"
    }
   ],
   "source": [
    "lr= LogisticRegression(C= 3.727593720314938)\n",
    "lr.fit(X_train_tfidf, y_train)"
   ]
  },
  {
   "cell_type": "code",
   "execution_count": 93,
   "id": "2489282c",
   "metadata": {},
   "outputs": [
    {
     "name": "stdout",
     "output_type": "stream",
     "text": [
      "Accuracy:  0.8871228013554946\n"
     ]
    }
   ],
   "source": [
    "print(\"Accuracy: \",(accuracy_score(y_test,lr.predict(X_test_tfidf))))"
   ]
  },
  {
   "cell_type": "code",
   "execution_count": 96,
   "id": "f9bc90bb",
   "metadata": {},
   "outputs": [
    {
     "data": {
      "image/png": "[encoded data removed]",
      "text/plain": [
       "<Figure size 432x288 with 2 Axes>"
      ]
     },
     "metadata": {
      "needs_background": "light"
     },
     "output_type": "display_data"
    }
   ],
   "source": [
    "disp = metrics.plot_confusion_matrix(lr,X_test_tfidf, y_test,\n",
    "                                 display_labels=['Class 0', 'Class 1'],\n",
    "                                 cmap=plt.cm.Blues,\n",
    "                                 normalize='true')\n",
    "disp.ax_.set_title('Logistic Regression Confusion matrix, with normalization');"
   ]
  },
  {
   "cell_type": "markdown",
   "id": "09d1c1a3",
   "metadata": {},
   "source": [
    "# Support vector machine"
   ]
  },
  {
   "cell_type": "code",
   "execution_count": 97,
   "id": "de113916",
   "metadata": {},
   "outputs": [
    {
     "name": "stdout",
     "output_type": "stream",
     "text": [
      "Fitting 2 folds for each of 9 candidates, totalling 18 fits\n",
      "[CV 1/2] END .....................C=0.1, gamma=1, kernel=rbf; total time= 6.3min\n",
      "[CV 2/2] END .....................C=0.1, gamma=1, kernel=rbf; total time= 6.5min\n",
      "[CV 1/2] END ...................C=0.1, gamma=0.1, kernel=rbf; total time= 7.2min\n",
      "[CV 2/2] END ...................C=0.1, gamma=0.1, kernel=rbf; total time= 7.2min\n",
      "[CV 1/2] END ..................C=0.1, gamma=0.01, kernel=rbf; total time= 7.6min\n",
      "[CV 2/2] END ..................C=0.1, gamma=0.01, kernel=rbf; total time= 7.7min\n",
      "[CV 1/2] END .......................C=1, gamma=1, kernel=rbf; total time= 9.0min\n",
      "[CV 2/2] END .......................C=1, gamma=1, kernel=rbf; total time=10.9min\n",
      "[CV 1/2] END .....................C=1, gamma=0.1, kernel=rbf; total time= 4.8min\n",
      "[CV 2/2] END .....................C=1, gamma=0.1, kernel=rbf; total time= 4.3min\n",
      "[CV 1/2] END ....................C=1, gamma=0.01, kernel=rbf; total time= 7.0min\n",
      "[CV 2/2] END ....................C=1, gamma=0.01, kernel=rbf; total time= 7.2min\n",
      "[CV 1/2] END ....................C=0.01, gamma=1, kernel=rbf; total time= 8.2min\n",
      "[CV 2/2] END ....................C=0.01, gamma=1, kernel=rbf; total time= 7.9min\n",
      "[CV 1/2] END ..................C=0.01, gamma=0.1, kernel=rbf; total time= 7.8min\n",
      "[CV 2/2] END ..................C=0.01, gamma=0.1, kernel=rbf; total time= 7.7min\n",
      "[CV 1/2] END .................C=0.01, gamma=0.01, kernel=rbf; total time= 7.4min\n",
      "[CV 2/2] END .................C=0.01, gamma=0.01, kernel=rbf; total time= 7.1min\n",
      "{'C': 1, 'gamma': 1, 'kernel': 'rbf'}\n",
      "SVC(C=1, gamma=1)\n"
     ]
    }
   ],
   "source": [
    "param_grid = {'C': [0.1, 1, .01 ], \n",
    "              'gamma': [1, 0.1, 0.01],\n",
    "              'kernel': ['rbf']}     # hyper parameter tuning\n",
    "  \n",
    "svm = GridSearchCV(SVC(), param_grid, refit = True, verbose = 3,cv=2)\n",
    "  \n",
    "svm.fit(X_train_tfidf, y_train)\n",
    "\n",
    "print(svm.best_params_)\n",
    "print(svm.best_estimator_)"
   ]
  },
  {
   "cell_type": "code",
   "execution_count": 98,
   "id": "db402480",
   "metadata": {},
   "outputs": [
    {
     "data": {
      "text/plain": [
       "SVC(C=1, gamma=1)"
      ]
     },
     "execution_count": 98,
     "metadata": {},
     "output_type": "execute_result"
    }
   ],
   "source": [
    "svm=SVC(C=1, break_ties=False, cache_size=200, class_weight=None, coef0=0.0,\n",
    "    decision_function_shape='ovr', degree=3, gamma=1, kernel='rbf',\n",
    "    max_iter=-1, probability=False, random_state=None, shrinking=True,\n",
    "    tol=0.001, verbose=False)\n",
    "svm.fit(X_train_tfidf, y_train)"
   ]
  },
  {
   "cell_type": "code",
   "execution_count": 99,
   "id": "b524510d",
   "metadata": {},
   "outputs": [
    {
     "name": "stdout",
     "output_type": "stream",
     "text": [
      "Accuracy:  0.8913183798612232\n"
     ]
    }
   ],
   "source": [
    "print(\"Accuracy: \",(accuracy_score(y_test,svm.predict(X_test_tfidf))))"
   ]
  },
  {
   "cell_type": "code",
   "execution_count": 100,
   "id": "6ac0174e",
   "metadata": {},
   "outputs": [
    {
     "data": {
      "image/png": "[encoded data removed]",
      "text/plain": [
       "<Figure size 432x288 with 2 Axes>"
      ]
     },
     "metadata": {
      "needs_background": "light"
     },
     "output_type": "display_data"
    }
   ],
   "source": [
    "disp = metrics.plot_confusion_matrix(svm,X_test_tfidf, y_test,\n",
    "                                 display_labels=['Class 0', 'Class 1'],\n",
    "                                 cmap=plt.cm.Blues,\n",
    "                                 normalize='true')\n",
    "disp.ax_.set_title('SVM Confusion matrix, with normalization');"
   ]
  },
  {
   "cell_type": "code",
   "execution_count": null,
   "id": "37001b20",
   "metadata": {},
   "outputs": [],
   "source": []
  }
 ],
 "metadata": {
  "kernelspec": {
   "display_name": "Python 3",
   "language": "python",
   "name": "python3"
  },
  "language_info": {
   "codemirror_mode": {
    "name": "ipython",
    "version": 3
   },
   "file_extension": ".py",
   "mimetype": "text/x-python",
   "name": "python",
   "nbconvert_exporter": "python",
   "pygments_lexer": "ipython3",
   "version": "3.8.8"
  }
 },
 "nbformat": 4,
 "nbformat_minor": 5
}
